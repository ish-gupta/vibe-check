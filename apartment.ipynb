{
 "cells": [
  {
   "cell_type": "code",
   "execution_count": 43,
   "metadata": {},
   "outputs": [],
   "source": [
    "# !pip install geopy"
   ]
  },
  {
   "cell_type": "code",
   "execution_count": 61,
   "metadata": {},
   "outputs": [],
   "source": [
    "import requests \n",
    "from geopy.geocoders import Nominatim\n",
    "from geopy.distance import geodesic"
   ]
  },
  {
   "cell_type": "code",
   "execution_count": 62,
   "metadata": {},
   "outputs": [
    {
     "name": "stdout",
     "output_type": "stream",
     "text": [
      "Address: 285, Peyton Court, Copeley Hill Apartments, University of Virginia, Albemarle County, Virginia, 22903, United States\n",
      "Latitude: 38.0480118\n",
      "Longitude: -78.5091330774942\n"
     ]
    }
   ],
   "source": [
    "# Get exact latitude and longitude of the address\n",
    "\n",
    "input_address = '285 Peyton Ct'\n",
    "geolocator = Nominatim(user_agent=\"ishita\")\n",
    "location = geolocator.geocode(input_address)\n",
    "\n",
    "address = location.address\n",
    "latitude = location.latitude\n",
    "longitude = location.longitude\n",
    "\n",
    "\n",
    "print(\"Address:\", address)\n",
    "print(\"Latitude:\", latitude)\n",
    "print(\"Longitude:\", longitude)"
   ]
  },
  {
   "cell_type": "code",
   "execution_count": 63,
   "metadata": {},
   "outputs": [],
   "source": [
    "# Using the Overpass API to retrieve map data\n",
    "\n",
    "overpass_url = \"http://overpass-api.de/api/interpreter\""
   ]
  },
  {
   "cell_type": "code",
   "execution_count": 74,
   "metadata": {},
   "outputs": [],
   "source": [
    "# Function to get grocery stores around a given latitude and longitude\n",
    "\n",
    "def find_grocery_stores(latitude, longitude, radius=1.0):\n",
    "\n",
    "    overpass_query = f\"\"\"\n",
    "    [out:json];\n",
    "    (\n",
    "      node[\"shop\"=\"supermarket\"](around:{radius * 1000}, {latitude}, {longitude});\n",
    "      node[\"shop\"=\"grocery\"](around:{radius * 1000}, {latitude}, {longitude});\n",
    "    );\n",
    "    out body;\n",
    "    \"\"\"\n",
    "\n",
    "    response = requests.get(overpass_url, params={'data': overpass_query})\n",
    "    \n",
    "    if response.status_code == 200:\n",
    "        data = response.json()\n",
    "        stores = data['elements']\n",
    "        \n",
    "        if not stores:\n",
    "            print(\"No grocery stores found within the specified radius.\")\n",
    "        else:\n",
    "            # Collect and sort grocery stores by distance\n",
    "            stores_with_distance = []\n",
    "            for store in stores:\n",
    "                store_location = (store['lat'], store['lon'])\n",
    "                store_name = store.get('tags', {}).get('name', 'Unnamed')\n",
    "                distance = geodesic((latitude, longitude), store_location).km\n",
    "                stores_with_distance.append((store_name, store_location, distance))\n",
    "            \n",
    "            # Sort by distance\n",
    "            stores_with_distance.sort(key=lambda x: x[2])\n",
    "\n",
    "            # Print sorted results\n",
    "            print(f\"Found {len(stores)} grocery stores within {radius} km, sorted by distance:\")\n",
    "            for store_name, store_location, distance in stores_with_distance:\n",
    "                print(f\"Name: {store_name}, Coordinates: {store_location}, Distance: {distance:.2f} km\")\n",
    "    else:\n",
    "        print(\"Error fetching data from Overpass API. Please try again later.\")"
   ]
  },
  {
   "cell_type": "code",
   "execution_count": 70,
   "metadata": {},
   "outputs": [],
   "source": [
    "# Function to find bus stops around a given latitude and longitude\n",
    "\n",
    "def find_bus_stops(latitude, longitude, radius=1.0):\n",
    "    overpass_query = f\"\"\"\n",
    "    [out:json];\n",
    "    node[\"highway\"=\"bus_stop\"](around:{radius * 1000}, {latitude}, {longitude});\n",
    "    out body;\n",
    "    \"\"\"\n",
    "    response = requests.get(overpass_url, params={'data': overpass_query})\n",
    "    \n",
    "    if response.status_code == 200:\n",
    "        data = response.json()\n",
    "        bus_stops = data['elements']\n",
    "        \n",
    "        if not bus_stops:\n",
    "            print(\"No bus stops found within the specified radius.\")\n",
    "        else:\n",
    "           \n",
    "            bus_stops_with_distance = []  # to collect and sort by distance\n",
    "            for stop in bus_stops:\n",
    "                stop_location = (stop['lat'], stop['lon'])\n",
    "                stop_name = stop.get('tags', {}).get('name', 'Unnamed')\n",
    "                distance = geodesic((latitude, longitude), stop_location).km\n",
    "                bus_stops_with_distance.append((stop_name, stop_location, distance))\n",
    "        \n",
    "\n",
    "            bus_stops_with_distance.sort(key=lambda x: x[2]) # sorting by distance\n",
    "\n",
    "            print(f\"Found {len(bus_stops)} bus stops within {radius} km, sorted by distance:\")\n",
    "            for stop_name, stop_location, distance in bus_stops_with_distance:\n",
    "                print(f\"Name: {stop_name}, Coordinates: {stop_location}, Distance: {distance:.2f} km\")\n",
    "    else:\n",
    "        print(\"Error fetching data from Overpass API. Please try again later.\")"
   ]
  },
  {
   "cell_type": "code",
   "execution_count": null,
   "metadata": {},
   "outputs": [
    {
     "name": "stdout",
     "output_type": "stream",
     "text": [
      "Found 5 grocery stores within 2.0 km, sorted by distance:\n",
      "Name: Harris Teeter, Coordinates: (38.0499778, -78.5042131), Distance: 0.48 km\n",
      "Name: Foods of All Nations, Coordinates: (38.0431314, -78.5119486), Distance: 0.60 km\n",
      "Name: Kroger, Coordinates: (38.0535319, -78.5006204), Distance: 0.97 km\n",
      "Name: Asian Market, Coordinates: (38.0561993, -78.4966832), Distance: 1.42 km\n",
      "Name: Super Amanecer, Coordinates: (38.0562741, -78.4966307), Distance: 1.43 km\n"
     ]
    }
   ],
   "source": [
    "find_grocery_stores(latitude, longitude, radius=2.0)  # within a radius of 2 km"
   ]
  },
  {
   "cell_type": "code",
   "execution_count": 73,
   "metadata": {},
   "outputs": [
    {
     "name": "stdout",
     "output_type": "stream",
     "text": [
      "Found 8 bus stops within 0.5 km, sorted by distance:\n",
      "Name: Massie Rd @ JPJ West Lot, Coordinates: (38.0462614, -78.5093282), Distance: 0.20 km\n",
      "Name: Massie Rd @ JPJ South Lot, Coordinates: (38.0458151, -78.5086629), Distance: 0.25 km\n",
      "Name: Massie Rd @ Faulkner Apts (Northbound), Coordinates: (38.048134, -78.51205), Distance: 0.26 km\n",
      "Name: Arlington Blvd @ Millmont St, Coordinates: (38.049372, -78.506336), Distance: 0.29 km\n",
      "Name: Massie Rd @ John Paul Jones Arena, Coordinates: (38.0450453, -78.5066476), Distance: 0.39 km\n",
      "Name: Massie Rd @ North Grounds Rec (Northbound), Coordinates: (38.0506433, -78.5124984), Distance: 0.42 km\n",
      "Name: Massie Rd @ Copeley Apts, Coordinates: (38.051897, -78.509797), Distance: 0.44 km\n",
      "Name: Massie Rd @ JPJ East Lot, Coordinates: (38.0447249, -78.5061906), Distance: 0.45 km\n"
     ]
    }
   ],
   "source": [
    "find_bus_stops(latitude, longitude, radius=0.5)  # within a radius of 0.5 km"
   ]
  },
  {
   "cell_type": "code",
   "execution_count": null,
   "metadata": {},
   "outputs": [],
   "source": []
  }
 ],
 "metadata": {
  "kernelspec": {
   "display_name": "Python 3",
   "language": "python",
   "name": "python3"
  },
  "language_info": {
   "codemirror_mode": {
    "name": "ipython",
    "version": 3
   },
   "file_extension": ".py",
   "mimetype": "text/x-python",
   "name": "python",
   "nbconvert_exporter": "python",
   "pygments_lexer": "ipython3",
   "version": "3.11.9"
  }
 },
 "nbformat": 4,
 "nbformat_minor": 2
}
