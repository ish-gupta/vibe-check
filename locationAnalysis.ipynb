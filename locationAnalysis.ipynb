{
 "cells": [
  {
   "cell_type": "code",
   "execution_count": 43,
   "metadata": {},
   "outputs": [],
   "source": [
    "# !pip install geopy"
   ]
  },
  {
   "cell_type": "code",
   "execution_count": 57,
   "metadata": {},
   "outputs": [],
   "source": [
    "import requests \n",
    "from geopy.geocoders import Nominatim\n",
    "from geopy.distance import geodesic"
   ]
  },
  {
   "cell_type": "code",
   "execution_count": 100,
   "metadata": {},
   "outputs": [
    {
     "name": "stdout",
     "output_type": "stream",
     "text": [
      "Address: 285, Peyton Court, Copeley Hill Apartments, University of Virginia, Albemarle County, Virginia, 22903, United States\n",
      "Latitude: 38.0480118\n",
      "Longitude: -78.5091330774942\n"
     ]
    }
   ],
   "source": [
    "# Get exact latitude and longitude of the address\n",
    "\n",
    "input_address = '285 Peyton Ct'\n",
    "geolocator = Nominatim(user_agent=\"ish\")\n",
    "location = geolocator.geocode(input_address)\n",
    "\n",
    "address = location.address\n",
    "latitude = location.latitude\n",
    "longitude = location.longitude\n",
    "\n",
    "\n",
    "print(\"Address:\", address)\n",
    "print(\"Latitude:\", latitude)\n",
    "print(\"Longitude:\", longitude)"
   ]
  },
  {
   "cell_type": "code",
   "execution_count": 101,
   "metadata": {},
   "outputs": [],
   "source": [
    "# Using the Overpass API to retrieve map data\n",
    "\n",
    "overpass_url = \"http://overpass-api.de/api/interpreter\""
   ]
  },
  {
   "cell_type": "code",
   "execution_count": 102,
   "metadata": {},
   "outputs": [],
   "source": [
    "# Function to get grocery stores around a given latitude and longitude\n",
    "\n",
    "def find_grocery_stores(latitude, longitude, radius=1.0):\n",
    "\n",
    "    overpass_query = f\"\"\"\n",
    "    [out:json];\n",
    "    (\n",
    "      node[\"shop\"=\"supermarket\"](around:{radius * 1000}, {latitude}, {longitude});\n",
    "      node[\"shop\"=\"grocery\"](around:{radius * 1000}, {latitude}, {longitude});\n",
    "    );\n",
    "    out body;\n",
    "    \"\"\"\n",
    "\n",
    "    response = requests.get(overpass_url, params={'data': overpass_query})\n",
    "    \n",
    "    if response.status_code == 200:\n",
    "        data = response.json()\n",
    "        stores = data['elements']\n",
    "        \n",
    "        if not stores:\n",
    "            print(\"No grocery stores found within the specified radius.\")\n",
    "        else:\n",
    "\n",
    "            stores_with_distance = [] # to collect and sort by distance\n",
    "            for store in stores:\n",
    "                store_location = (store['lat'], store['lon'])\n",
    "                store_name = store.get('tags', {}).get('name', 'Unnamed')\n",
    "                distance = geodesic((latitude, longitude), store_location).km\n",
    "                stores_with_distance.append((store_name, store_location, distance))\n",
    "            \n",
    "            stores_with_distance.sort(key=lambda x: x[2])\n",
    "\n",
    "            print(f\"Found {len(stores)} grocery stores within {radius} km, sorted by distance:\")\n",
    "            for store_name, store_location, distance in stores_with_distance:\n",
    "                print(f\"Name: {store_name}, Coordinates: {store_location}, Distance: {distance:.2f} km\")\n",
    "    else:\n",
    "        print(\"Error fetching data from Overpass API. Please try again later.\")"
   ]
  },
  {
   "cell_type": "code",
   "execution_count": null,
   "metadata": {},
   "outputs": [],
   "source": [
    "# Function to find bus stops around a given latitude and longitude\n",
    "\n",
    "def find_bus_stops(latitude, longitude, radius=1.0):\n",
    "    overpass_query = f\"\"\"\n",
    "    [out:json];\n",
    "    node[\"highway\"=\"bus_stop\"](around:{radius * 1000}, {latitude}, {longitude});\n",
    "    out body;\n",
    "    \"\"\"\n",
    "    response = requests.get(overpass_url, params={'data': overpass_query})\n",
    "    \n",
    "    if response.status_code == 200:\n",
    "        data = response.json()\n",
    "        bus_stops = data['elements']\n",
    "        \n",
    "        if not bus_stops:\n",
    "            print(\"No bus stops found within the specified radius.\")\n",
    "        else:\n",
    "           \n",
    "            bus_stops_with_distance = []  \n",
    "            for stop in bus_stops:\n",
    "                stop_location = (stop['lat'], stop['lon'])\n",
    "                stop_name = stop.get('tags', {}).get('name', 'Unnamed')\n",
    "                network_provider = stop.get('tags', {}).get('network', 'Unknown')\n",
    "                distance = geodesic((latitude, longitude), stop_location).km\n",
    "                bus_stops_with_distance.append((stop_name, network_provider, stop_location, distance))\n",
    "        \n",
    "\n",
    "            bus_stops_with_distance.sort(key=lambda x: x[2]) \n",
    "\n",
    "            print(f\"Found {len(bus_stops)} bus stops within {radius} km, sorted by distance:\")\n",
    "            for stop_name, network_provider, stop_location, distance in bus_stops_with_distance:\n",
    "                print(f\"Name: {stop_name}, Network: {network_provider}, Coordinates: {stop_location}, Distance: {distance:.2f} km\")\n",
    "    else:\n",
    "        print(\"Error fetching data from Overpass API. Please try again later.\")"
   ]
  },
  {
   "cell_type": "code",
   "execution_count": null,
   "metadata": {},
   "outputs": [],
   "source": [
    "# Function to get node details by ID - used for 'way' type elements \n",
    "\n",
    "def get_node_details(node_id):\n",
    "    overpass_query = f\"\"\"\n",
    "    [out:json];\n",
    "    node({node_id});\n",
    "    out body;\n",
    "    \"\"\"\n",
    "    response = requests.get(overpass_url, params={'data': overpass_query})\n",
    "    if response.status_code == 200:\n",
    "        data = response.json()\n",
    "        if 'elements' in data and data['elements']:\n",
    "            return data['elements'][0]\n",
    "    return None"
   ]
  },
  {
   "cell_type": "code",
   "execution_count": 134,
   "metadata": {},
   "outputs": [],
   "source": [
    "# Function to get gyms around a given latitude and longitude\n",
    "\n",
    "def find_gyms(latitude, longitude, radius=1.0):\n",
    "    overpass_query = f\"\"\"\n",
    "    [out:json];\n",
    "    (\n",
    "    node[\"leisure\"=\"fitness_centre\"](around:{radius * 1000}, {latitude}, {longitude});\n",
    "    node[\"sport\"=\"gym\"](around:{radius * 1000}, {latitude}, {longitude});\n",
    "    node[\"leisure\"=\"recreation_ground\"](around:{radius * 1000}, {latitude}, {longitude});\n",
    "    way[\"leisure\"=\"sports_centre\"](around:{radius * 1000}, {latitude}, {longitude});\n",
    "    relation[\"leisure\"=\"sports_centre\"](around:{radius * 1000}, {latitude}, {longitude});\n",
    "    node[\"amenity\"=\"gym\"](around:{radius * 1000}, {latitude}, {longitude});\n",
    "    node[\"sport\"=\"fitness\"](around:{radius * 1000}, {latitude}, {longitude});\n",
    "    node[\"amenity\"=\"recreation_centre\"](around:{radius * 1000}, {latitude}, {longitude});\n",
    "    node[\"leisure\"=\"sports_centre\"](around:{radius * 1000}, {latitude}, {longitude});\n",
    "    );\n",
    "    out body;\n",
    "    \"\"\"\n",
    "\n",
    "    response = requests.get(overpass_url, params={'data': overpass_query})\n",
    "    \n",
    "    if response.status_code == 200:\n",
    "        data = response.json()\n",
    "        elements = data['elements']\n",
    "        \n",
    "        if not elements:\n",
    "            print(\"No sports centers found within the specified radius.\")\n",
    "        else:\n",
    "            centres_with_distance = []\n",
    "\n",
    "            for element in elements:\n",
    "                if element['type'] == 'node':\n",
    "                    location = (element['lat'], element['lon'])\n",
    "                    name = element.get('tags', {}).get('name', 'Unnamed')\n",
    "                    distance = geodesic((latitude, longitude), location).km\n",
    "                    centres_with_distance.append((name, location, distance))\n",
    "                \n",
    "                elif element['type'] == 'way':\n",
    "                    if 'nodes' in element and element['nodes']:\n",
    "                        node_id = element['nodes'][0]  # get the first node of the way\n",
    "                        node_data = next((item for item in elements if item['type'] == 'node' and item['id'] == node_id), None)\n",
    "                        \n",
    "                        if not node_data:  # fetch node details if not found in the initial response\n",
    "                            node_data = get_node_details(node_id)\n",
    "                        \n",
    "                        if node_data:\n",
    "                            location = (node_data['lat'], node_data['lon'])\n",
    "                            name = element.get('tags', {}).get('name', 'Unnamed')\n",
    "                            distance = geodesic((latitude, longitude), location).km\n",
    "                            centres_with_distance.append((name, location, distance))\n",
    "\n",
    "            centres_with_distance.sort(key=lambda x: x[2])\n",
    "\n",
    "            print(f\"Found {len(centres_with_distance)} sports centers within {radius} km, sorted by distance:\")\n",
    "            for name, location, distance in centres_with_distance:\n",
    "                print(f\"Name: {name}, Coordinates: {location}, Distance: {distance:.2f} km\")\n",
    "    else:\n",
    "        print(\"Error fetching data from Overpass API. Please try again later.\")"
   ]
  },
  {
   "cell_type": "code",
   "execution_count": 105,
   "metadata": {},
   "outputs": [
    {
     "name": "stdout",
     "output_type": "stream",
     "text": [
      "Found 5 grocery stores within 2.0 km, sorted by distance:\n",
      "Name: Harris Teeter, Coordinates: (38.0499778, -78.5042131), Distance: 0.48 km\n",
      "Name: Foods of All Nations, Coordinates: (38.0431314, -78.5119486), Distance: 0.60 km\n",
      "Name: Kroger, Coordinates: (38.0535319, -78.5006204), Distance: 0.97 km\n",
      "Name: Asian Market, Coordinates: (38.0561993, -78.4966832), Distance: 1.42 km\n",
      "Name: Super Amanecer, Coordinates: (38.0562741, -78.4966307), Distance: 1.43 km\n"
     ]
    }
   ],
   "source": [
    "find_grocery_stores(latitude, longitude, radius=2.0)  # within a radius of 2 km"
   ]
  },
  {
   "cell_type": "code",
   "execution_count": 106,
   "metadata": {},
   "outputs": [
    {
     "name": "stdout",
     "output_type": "stream",
     "text": [
      "Found 8 bus stops within 0.5 km, sorted by distance:\n",
      "Name: Massie Rd @ JPJ East Lot, Network: Unknown, Coordinates: (38.0447249, -78.5061906), Distance: 0.45 km\n",
      "Name: Massie Rd @ John Paul Jones Arena, Network: Unknown, Coordinates: (38.0450453, -78.5066476), Distance: 0.39 km\n",
      "Name: Massie Rd @ JPJ South Lot, Network: Unknown, Coordinates: (38.0458151, -78.5086629), Distance: 0.25 km\n",
      "Name: Massie Rd @ JPJ West Lot, Network: Unknown, Coordinates: (38.0462614, -78.5093282), Distance: 0.20 km\n",
      "Name: Massie Rd @ Faulkner Apts (Northbound), Network: Unknown, Coordinates: (38.048134, -78.51205), Distance: 0.26 km\n",
      "Name: Arlington Blvd @ Millmont St, Network: Unknown, Coordinates: (38.049372, -78.506336), Distance: 0.29 km\n",
      "Name: Massie Rd @ North Grounds Rec (Northbound), Network: Unknown, Coordinates: (38.0506433, -78.5124984), Distance: 0.42 km\n",
      "Name: Massie Rd @ Copeley Apts, Network: Unknown, Coordinates: (38.051897, -78.509797), Distance: 0.44 km\n"
     ]
    }
   ],
   "source": [
    "find_bus_stops(latitude, longitude, radius=0.5)  # within a radius of 0.5 km"
   ]
  },
  {
   "cell_type": "code",
   "execution_count": 135,
   "metadata": {},
   "outputs": [
    {
     "name": "stdout",
     "output_type": "stream",
     "text": [
      "Found 9 sports centers within 1.0 km, sorted by distance:\n",
      "Name: John Paul Jones Arena, Coordinates: (38.0466143, -78.5069309), Distance: 0.25 km\n",
      "Name: Wilson Collegiate Tennis Camps University of Virginia, Coordinates: (38.0451299, -78.5075791), Distance: 0.35 km\n",
      "Name: Orangetheory Fitness, Coordinates: (38.0488652, -78.5051546), Distance: 0.36 km\n",
      "Name: Zoom Training, Coordinates: (38.048768, -78.5049637), Distance: 0.38 km\n",
      "Name: Zoom Indoor Cycling, Coordinates: (38.0486614, -78.5048193), Distance: 0.39 km\n",
      "Name: North Grounds Recreation Center, Coordinates: (38.0508858, -78.5135758), Distance: 0.50 km\n",
      "Name: Quantum Movements Studio, Coordinates: (38.0448655, -78.5169151), Distance: 0.77 km\n",
      "Name: Salute the Sun Yoga, Coordinates: (38.0447253, -78.516922), Distance: 0.77 km\n",
      "Name: Stretch Lab, Coordinates: (38.0530763, -78.5009116), Distance: 0.91 km\n"
     ]
    }
   ],
   "source": [
    "find_gyms(latitude, longitude, radius=1.0)  # within a radius of 1 km"
   ]
  },
  {
   "cell_type": "code",
   "execution_count": null,
   "metadata": {},
   "outputs": [],
   "source": []
  }
 ],
 "metadata": {
  "kernelspec": {
   "display_name": "Python 3",
   "language": "python",
   "name": "python3"
  },
  "language_info": {
   "codemirror_mode": {
    "name": "ipython",
    "version": 3
   },
   "file_extension": ".py",
   "mimetype": "text/x-python",
   "name": "python",
   "nbconvert_exporter": "python",
   "pygments_lexer": "ipython3",
   "version": "3.11.9"
  }
 },
 "nbformat": 4,
 "nbformat_minor": 2
}
